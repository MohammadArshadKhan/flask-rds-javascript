{
 "cells": [
  {
   "cell_type": "code",
   "execution_count": 1,
   "metadata": {},
   "outputs": [],
   "source": [
    "#Import package pandas for data analysis\n",
    "import pandas as pd\n",
    "\n",
    "# Import package numpy for numeric computing\n",
    "import numpy as np\n",
    "\n",
    "# Import package matplotlib for visualisation/plotting\n",
    "import matplotlib.pyplot as plt\n",
    "\n",
    "#import PdfPages to save to pdf\n",
    "from matplotlib.backends.backend_pdf import PdfPages\n",
    "\n",
    "import seaborn as sns"
   ]
  },
  {
   "cell_type": "code",
   "execution_count": 2,
   "metadata": {},
   "outputs": [],
   "source": [
    "# Reading from a csv file, into a data frame\n",
    "data=pd.read_csv(\"bikedata.csv\")"
   ]
  },
  {
   "cell_type": "code",
   "execution_count": 3,
   "metadata": {},
   "outputs": [
    {
     "data": {
      "text/html": [
       "<div>\n",
       "<style scoped>\n",
       "    .dataframe tbody tr th:only-of-type {\n",
       "        vertical-align: middle;\n",
       "    }\n",
       "\n",
       "    .dataframe tbody tr th {\n",
       "        vertical-align: top;\n",
       "    }\n",
       "\n",
       "    .dataframe thead th {\n",
       "        text-align: right;\n",
       "    }\n",
       "</style>\n",
       "<table border=\"1\" class=\"dataframe\">\n",
       "  <thead>\n",
       "    <tr style=\"text-align: right;\">\n",
       "      <th></th>\n",
       "      <th>number</th>\n",
       "      <th>contract_name</th>\n",
       "      <th>name</th>\n",
       "      <th>bike_stands</th>\n",
       "      <th>available_bike_stands</th>\n",
       "      <th>available_bikes</th>\n",
       "      <th>status</th>\n",
       "      <th>last_update</th>\n",
       "    </tr>\n",
       "  </thead>\n",
       "  <tbody>\n",
       "    <tr>\n",
       "      <th>0</th>\n",
       "      <td>42</td>\n",
       "      <td>dublin</td>\n",
       "      <td>SMITHFIELD NORTH</td>\n",
       "      <td>30</td>\n",
       "      <td>24</td>\n",
       "      <td>6</td>\n",
       "      <td>OPEN</td>\n",
       "      <td>2020-03-04 09:38:19</td>\n",
       "    </tr>\n",
       "    <tr>\n",
       "      <th>1</th>\n",
       "      <td>30</td>\n",
       "      <td>dublin</td>\n",
       "      <td>PARNELL SQUARE NORTH</td>\n",
       "      <td>20</td>\n",
       "      <td>19</td>\n",
       "      <td>1</td>\n",
       "      <td>OPEN</td>\n",
       "      <td>2020-03-04 09:30:14</td>\n",
       "    </tr>\n",
       "    <tr>\n",
       "      <th>2</th>\n",
       "      <td>54</td>\n",
       "      <td>dublin</td>\n",
       "      <td>CLONMEL STREET</td>\n",
       "      <td>33</td>\n",
       "      <td>14</td>\n",
       "      <td>19</td>\n",
       "      <td>OPEN</td>\n",
       "      <td>2020-03-04 09:39:15</td>\n",
       "    </tr>\n",
       "    <tr>\n",
       "      <th>3</th>\n",
       "      <td>108</td>\n",
       "      <td>dublin</td>\n",
       "      <td>AVONDALE ROAD</td>\n",
       "      <td>40</td>\n",
       "      <td>40</td>\n",
       "      <td>0</td>\n",
       "      <td>OPEN</td>\n",
       "      <td>2020-03-04 09:36:45</td>\n",
       "    </tr>\n",
       "    <tr>\n",
       "      <th>4</th>\n",
       "      <td>56</td>\n",
       "      <td>dublin</td>\n",
       "      <td>MOUNT STREET LOWER</td>\n",
       "      <td>40</td>\n",
       "      <td>18</td>\n",
       "      <td>21</td>\n",
       "      <td>OPEN</td>\n",
       "      <td>2020-03-04 09:39:33</td>\n",
       "    </tr>\n",
       "  </tbody>\n",
       "</table>\n",
       "</div>"
      ],
      "text/plain": [
       "   number contract_name                  name  bike_stands  \\\n",
       "0      42        dublin      SMITHFIELD NORTH           30   \n",
       "1      30        dublin  PARNELL SQUARE NORTH           20   \n",
       "2      54        dublin        CLONMEL STREET           33   \n",
       "3     108        dublin         AVONDALE ROAD           40   \n",
       "4      56        dublin    MOUNT STREET LOWER           40   \n",
       "\n",
       "   available_bike_stands  available_bikes status          last_update  \n",
       "0                     24                6   OPEN  2020-03-04 09:38:19  \n",
       "1                     19                1   OPEN  2020-03-04 09:30:14  \n",
       "2                     14               19   OPEN  2020-03-04 09:39:15  \n",
       "3                     40                0   OPEN  2020-03-04 09:36:45  \n",
       "4                     18               21   OPEN  2020-03-04 09:39:33  "
      ]
     },
     "execution_count": 3,
     "metadata": {},
     "output_type": "execute_result"
    }
   ],
   "source": [
    "# Print the first 5 rows\n",
    "data.head(5)"
   ]
  },
  {
   "cell_type": "code",
   "execution_count": 4,
   "metadata": {},
   "outputs": [
    {
     "data": {
      "text/html": [
       "<div>\n",
       "<style scoped>\n",
       "    .dataframe tbody tr th:only-of-type {\n",
       "        vertical-align: middle;\n",
       "    }\n",
       "\n",
       "    .dataframe tbody tr th {\n",
       "        vertical-align: top;\n",
       "    }\n",
       "\n",
       "    .dataframe thead th {\n",
       "        text-align: right;\n",
       "    }\n",
       "</style>\n",
       "<table border=\"1\" class=\"dataframe\">\n",
       "  <thead>\n",
       "    <tr style=\"text-align: right;\">\n",
       "      <th></th>\n",
       "      <th>number</th>\n",
       "      <th>contract_name</th>\n",
       "      <th>name</th>\n",
       "      <th>bike_stands</th>\n",
       "      <th>available_bike_stands</th>\n",
       "      <th>available_bikes</th>\n",
       "      <th>status</th>\n",
       "      <th>last_update</th>\n",
       "    </tr>\n",
       "  </thead>\n",
       "  <tbody>\n",
       "    <tr>\n",
       "      <th>524018</th>\n",
       "      <td>100</td>\n",
       "      <td>dublin</td>\n",
       "      <td>HEUSTON BRIDGE (SOUTH)</td>\n",
       "      <td>25</td>\n",
       "      <td>9</td>\n",
       "      <td>16</td>\n",
       "      <td>OPEN</td>\n",
       "      <td>2020-03-21 17:16:30</td>\n",
       "    </tr>\n",
       "    <tr>\n",
       "      <th>524019</th>\n",
       "      <td>24</td>\n",
       "      <td>dublin</td>\n",
       "      <td>CATHAL BRUGHA STREET</td>\n",
       "      <td>20</td>\n",
       "      <td>13</td>\n",
       "      <td>7</td>\n",
       "      <td>OPEN</td>\n",
       "      <td>2020-03-21 17:14:13</td>\n",
       "    </tr>\n",
       "    <tr>\n",
       "      <th>524020</th>\n",
       "      <td>64</td>\n",
       "      <td>dublin</td>\n",
       "      <td>SANDWITH STREET</td>\n",
       "      <td>40</td>\n",
       "      <td>29</td>\n",
       "      <td>11</td>\n",
       "      <td>OPEN</td>\n",
       "      <td>2020-03-21 17:16:04</td>\n",
       "    </tr>\n",
       "    <tr>\n",
       "      <th>524021</th>\n",
       "      <td>109</td>\n",
       "      <td>dublin</td>\n",
       "      <td>BUCKINGHAM STREET LOWER</td>\n",
       "      <td>29</td>\n",
       "      <td>25</td>\n",
       "      <td>4</td>\n",
       "      <td>OPEN</td>\n",
       "      <td>2020-03-21 17:14:40</td>\n",
       "    </tr>\n",
       "    <tr>\n",
       "      <th>524022</th>\n",
       "      <td>85</td>\n",
       "      <td>dublin</td>\n",
       "      <td>ROTHE ABBEY</td>\n",
       "      <td>35</td>\n",
       "      <td>10</td>\n",
       "      <td>25</td>\n",
       "      <td>OPEN</td>\n",
       "      <td>2020-03-21 17:10:34</td>\n",
       "    </tr>\n",
       "  </tbody>\n",
       "</table>\n",
       "</div>"
      ],
      "text/plain": [
       "        number contract_name                     name  bike_stands  \\\n",
       "524018     100        dublin   HEUSTON BRIDGE (SOUTH)           25   \n",
       "524019      24        dublin     CATHAL BRUGHA STREET           20   \n",
       "524020      64        dublin          SANDWITH STREET           40   \n",
       "524021     109        dublin  BUCKINGHAM STREET LOWER           29   \n",
       "524022      85        dublin              ROTHE ABBEY           35   \n",
       "\n",
       "        available_bike_stands  available_bikes status          last_update  \n",
       "524018                      9               16   OPEN  2020-03-21 17:16:30  \n",
       "524019                     13                7   OPEN  2020-03-21 17:14:13  \n",
       "524020                     29               11   OPEN  2020-03-21 17:16:04  \n",
       "524021                     25                4   OPEN  2020-03-21 17:14:40  \n",
       "524022                     10               25   OPEN  2020-03-21 17:10:34  "
      ]
     },
     "execution_count": 4,
     "metadata": {},
     "output_type": "execute_result"
    }
   ],
   "source": [
    "# Print the last 5 rows\n",
    "data.tail(5)"
   ]
  },
  {
   "cell_type": "code",
   "execution_count": 5,
   "metadata": {},
   "outputs": [
    {
     "data": {
      "text/plain": [
       "(524023, 8)"
      ]
     },
     "execution_count": 5,
     "metadata": {},
     "output_type": "execute_result"
    }
   ],
   "source": [
    "#Droping duplicate rows and columns\n",
    "data=data.T.drop_duplicates().T\n",
    "\n",
    "data.shape"
   ]
  },
  {
   "cell_type": "code",
   "execution_count": 6,
   "metadata": {},
   "outputs": [
    {
     "name": "stdout",
     "output_type": "stream",
     "text": [
      "Number of duplicate (excluding first) columns in the table is:  0\n",
      "Number of duplicate (including first) columns in the table is:  0\n"
     ]
    }
   ],
   "source": [
    "# Check for duplicate columns\n",
    "#First transpose the df so columns become rows, then apply the same check as above\n",
    "dfT = data.T\n",
    "print(\"Number of duplicate (excluding first) columns in the table is: \", dfT.duplicated().sum())\n",
    "print(\"Number of duplicate (including first) columns in the table is: \",  dfT[dfT.duplicated(keep=False)].shape[0])"
   ]
  },
  {
   "cell_type": "code",
   "execution_count": 7,
   "metadata": {},
   "outputs": [],
   "source": [
    "data=data.drop_duplicates()"
   ]
  },
  {
   "cell_type": "code",
   "execution_count": 8,
   "metadata": {},
   "outputs": [
    {
     "name": "stdout",
     "output_type": "stream",
     "text": [
      "Number of duplicate (excluding first) rows in the table is:  0\n",
      "Number of duplicate rows (including first) in the table is: 0\n"
     ]
    }
   ],
   "source": [
    "#Print the number of duplicates, without the original rows that were duplicated\n",
    "print('Number of duplicate (excluding first) rows in the table is: ', data.duplicated().sum())\n",
    "\n",
    "# Check for duplicate rows. \n",
    "# Use \"keep=False\" to mark all duplicates as true, including the original rows that were duplicated.\n",
    "print('Number of duplicate rows (including first) in the table is:', data[data.duplicated(keep=False)].shape[0])"
   ]
  },
  {
   "cell_type": "code",
   "execution_count": 9,
   "metadata": {},
   "outputs": [
    {
     "data": {
      "text/plain": [
       "number                   0\n",
       "contract_name            0\n",
       "name                     0\n",
       "bike_stands              0\n",
       "available_bike_stands    0\n",
       "available_bikes          0\n",
       "status                   0\n",
       "last_update              0\n",
       "dtype: int64"
      ]
     },
     "execution_count": 9,
     "metadata": {},
     "output_type": "execute_result"
    }
   ],
   "source": [
    "# checking how many null values in the data set\n",
    "data.isnull().sum()"
   ]
  },
  {
   "cell_type": "code",
   "execution_count": 10,
   "metadata": {},
   "outputs": [],
   "source": [
    "#convert the dateTime to get rid of the am and pm\n",
    "def date(x):\n",
    "    formats = pd.to_datetime(x, errors='coerce')\n",
    "    return formats\n",
    "\n",
    "data['last_update'] = data['last_update'].apply(date)\n"
   ]
  },
  {
   "cell_type": "code",
   "execution_count": 11,
   "metadata": {},
   "outputs": [],
   "source": [
    "# Convert the category features\n",
    "data['status'] = data['status'].astype('category')\n"
   ]
  },
  {
   "cell_type": "code",
   "execution_count": 12,
   "metadata": {},
   "outputs": [],
   "source": [
    "# Convert the numeric features\n",
    "data['available_bikes'] = data['available_bikes'].astype('int64')\n",
    "data['available_bike_stands'] = data['available_bike_stands'].astype('int64')\n",
    "data['bike_stands'] = data['bike_stands'].astype('int64')\n"
   ]
  },
  {
   "cell_type": "code",
   "execution_count": 13,
   "metadata": {},
   "outputs": [
    {
     "data": {
      "text/plain": [
       "number                           object\n",
       "contract_name                    object\n",
       "name                             object\n",
       "bike_stands                       int64\n",
       "available_bike_stands             int64\n",
       "available_bikes                   int64\n",
       "status                         category\n",
       "last_update              datetime64[ns]\n",
       "dtype: object"
      ]
     },
     "execution_count": 13,
     "metadata": {},
     "output_type": "execute_result"
    }
   ],
   "source": [
    "data.dtypes"
   ]
  },
  {
   "cell_type": "code",
   "execution_count": 14,
   "metadata": {},
   "outputs": [
    {
     "data": {
      "text/html": [
       "<div>\n",
       "<style scoped>\n",
       "    .dataframe tbody tr th:only-of-type {\n",
       "        vertical-align: middle;\n",
       "    }\n",
       "\n",
       "    .dataframe tbody tr th {\n",
       "        vertical-align: top;\n",
       "    }\n",
       "\n",
       "    .dataframe thead th {\n",
       "        text-align: right;\n",
       "    }\n",
       "</style>\n",
       "<table border=\"1\" class=\"dataframe\">\n",
       "  <thead>\n",
       "    <tr style=\"text-align: right;\">\n",
       "      <th></th>\n",
       "      <th>count</th>\n",
       "      <th>mean</th>\n",
       "      <th>std</th>\n",
       "      <th>min</th>\n",
       "      <th>25%</th>\n",
       "      <th>50%</th>\n",
       "      <th>75%</th>\n",
       "      <th>max</th>\n",
       "    </tr>\n",
       "  </thead>\n",
       "  <tbody>\n",
       "    <tr>\n",
       "      <th>bike_stands</th>\n",
       "      <td>307067.0</td>\n",
       "      <td>32.096647</td>\n",
       "      <td>7.663767</td>\n",
       "      <td>16.0</td>\n",
       "      <td>29.0</td>\n",
       "      <td>30.0</td>\n",
       "      <td>40.0</td>\n",
       "      <td>40.0</td>\n",
       "    </tr>\n",
       "    <tr>\n",
       "      <th>available_bike_stands</th>\n",
       "      <td>307067.0</td>\n",
       "      <td>19.924743</td>\n",
       "      <td>10.803479</td>\n",
       "      <td>0.0</td>\n",
       "      <td>12.0</td>\n",
       "      <td>20.0</td>\n",
       "      <td>28.0</td>\n",
       "      <td>40.0</td>\n",
       "    </tr>\n",
       "    <tr>\n",
       "      <th>available_bikes</th>\n",
       "      <td>307067.0</td>\n",
       "      <td>12.100535</td>\n",
       "      <td>9.592475</td>\n",
       "      <td>0.0</td>\n",
       "      <td>4.0</td>\n",
       "      <td>10.0</td>\n",
       "      <td>18.0</td>\n",
       "      <td>40.0</td>\n",
       "    </tr>\n",
       "  </tbody>\n",
       "</table>\n",
       "</div>"
      ],
      "text/plain": [
       "                          count       mean        std   min   25%   50%   75%  \\\n",
       "bike_stands            307067.0  32.096647   7.663767  16.0  29.0  30.0  40.0   \n",
       "available_bike_stands  307067.0  19.924743  10.803479   0.0  12.0  20.0  28.0   \n",
       "available_bikes        307067.0  12.100535   9.592475   0.0   4.0  10.0  18.0   \n",
       "\n",
       "                        max  \n",
       "bike_stands            40.0  \n",
       "available_bike_stands  40.0  \n",
       "available_bikes        40.0  "
      ]
     },
     "execution_count": 14,
     "metadata": {},
     "output_type": "execute_result"
    }
   ],
   "source": [
    "#Prepare a table with descriptive statistics for all the continuous features.\n",
    "data.describe().T"
   ]
  },
  {
   "cell_type": "code",
   "execution_count": 15,
   "metadata": {},
   "outputs": [
    {
     "data": {
      "text/html": [
       "<div>\n",
       "<style scoped>\n",
       "    .dataframe tbody tr th:only-of-type {\n",
       "        vertical-align: middle;\n",
       "    }\n",
       "\n",
       "    .dataframe tbody tr th {\n",
       "        vertical-align: top;\n",
       "    }\n",
       "\n",
       "    .dataframe thead th {\n",
       "        text-align: right;\n",
       "    }\n",
       "</style>\n",
       "<table border=\"1\" class=\"dataframe\">\n",
       "  <thead>\n",
       "    <tr style=\"text-align: right;\">\n",
       "      <th></th>\n",
       "      <th>count</th>\n",
       "      <th>unique</th>\n",
       "      <th>top</th>\n",
       "      <th>freq</th>\n",
       "    </tr>\n",
       "  </thead>\n",
       "  <tbody>\n",
       "    <tr>\n",
       "      <th>status</th>\n",
       "      <td>307067</td>\n",
       "      <td>1</td>\n",
       "      <td>OPEN</td>\n",
       "      <td>307067</td>\n",
       "    </tr>\n",
       "  </tbody>\n",
       "</table>\n",
       "</div>"
      ],
      "text/plain": [
       "         count unique   top    freq\n",
       "status  307067      1  OPEN  307067"
      ]
     },
     "execution_count": 15,
     "metadata": {},
     "output_type": "execute_result"
    }
   ],
   "source": [
    "# Descriptive statistics for all the categorical features\n",
    "data.select_dtypes(['category']).describe().T"
   ]
  },
  {
   "cell_type": "markdown",
   "metadata": {},
   "source": [
    "### Data Quality Report: Visualisations"
   ]
  },
  {
   "cell_type": "code",
   "execution_count": 16,
   "metadata": {},
   "outputs": [
    {
     "name": "stderr",
     "output_type": "stream",
     "text": [
      "C:\\Users\\olawa\\Anaconda3\\envs\\comp47350py37\\lib\\site-packages\\pandas\\plotting\\_matplotlib\\tools.py:307: MatplotlibDeprecationWarning: \n",
      "The rowNum attribute was deprecated in Matplotlib 3.2 and will be removed two minor releases later. Use ax.get_subplotspec().rowspan.start instead.\n",
      "  layout[ax.rowNum, ax.colNum] = ax.get_visible()\n",
      "C:\\Users\\olawa\\Anaconda3\\envs\\comp47350py37\\lib\\site-packages\\pandas\\plotting\\_matplotlib\\tools.py:307: MatplotlibDeprecationWarning: \n",
      "The colNum attribute was deprecated in Matplotlib 3.2 and will be removed two minor releases later. Use ax.get_subplotspec().colspan.start instead.\n",
      "  layout[ax.rowNum, ax.colNum] = ax.get_visible()\n",
      "C:\\Users\\olawa\\Anaconda3\\envs\\comp47350py37\\lib\\site-packages\\pandas\\plotting\\_matplotlib\\tools.py:313: MatplotlibDeprecationWarning: \n",
      "The rowNum attribute was deprecated in Matplotlib 3.2 and will be removed two minor releases later. Use ax.get_subplotspec().rowspan.start instead.\n",
      "  if not layout[ax.rowNum + 1, ax.colNum]:\n",
      "C:\\Users\\olawa\\Anaconda3\\envs\\comp47350py37\\lib\\site-packages\\pandas\\plotting\\_matplotlib\\tools.py:313: MatplotlibDeprecationWarning: \n",
      "The colNum attribute was deprecated in Matplotlib 3.2 and will be removed two minor releases later. Use ax.get_subplotspec().colspan.start instead.\n",
      "  if not layout[ax.rowNum + 1, ax.colNum]:\n"
     ]
    },
    {
     "data": {
      "text/plain": [
       "<Figure size 432x288 with 0 Axes>"
      ]
     },
     "metadata": {},
     "output_type": "display_data"
    },
    {
     "data": {
      "image/png": "[encoded data removed]",
      "text/plain": [
       "<Figure size 1440x360 with 4 Axes>"
      ]
     },
     "metadata": {
      "needs_background": "light"
     },
     "output_type": "display_data"
    }
   ],
   "source": [
    "# Plot histograms for all the continuous features.\n",
    "#To list many plot together \n",
    "%matplotlib inline\n",
    "\n",
    "plt.figure()\n",
    "data.hist(figsize=(20, 5))\n",
    "plt.savefig('continuous_histograms.png')"
   ]
  },
  {
   "cell_type": "code",
   "execution_count": 17,
   "metadata": {},
   "outputs": [
    {
     "name": "stderr",
     "output_type": "stream",
     "text": [
      "C:\\Users\\olawa\\Anaconda3\\envs\\comp47350py37\\lib\\site-packages\\pandas\\plotting\\_matplotlib\\tools.py:307: MatplotlibDeprecationWarning: \n",
      "The rowNum attribute was deprecated in Matplotlib 3.2 and will be removed two minor releases later. Use ax.get_subplotspec().rowspan.start instead.\n",
      "  layout[ax.rowNum, ax.colNum] = ax.get_visible()\n",
      "C:\\Users\\olawa\\Anaconda3\\envs\\comp47350py37\\lib\\site-packages\\pandas\\plotting\\_matplotlib\\tools.py:307: MatplotlibDeprecationWarning: \n",
      "The colNum attribute was deprecated in Matplotlib 3.2 and will be removed two minor releases later. Use ax.get_subplotspec().colspan.start instead.\n",
      "  layout[ax.rowNum, ax.colNum] = ax.get_visible()\n",
      "C:\\Users\\olawa\\Anaconda3\\envs\\comp47350py37\\lib\\site-packages\\pandas\\plotting\\_matplotlib\\tools.py:313: MatplotlibDeprecationWarning: \n",
      "The rowNum attribute was deprecated in Matplotlib 3.2 and will be removed two minor releases later. Use ax.get_subplotspec().rowspan.start instead.\n",
      "  if not layout[ax.rowNum + 1, ax.colNum]:\n",
      "C:\\Users\\olawa\\Anaconda3\\envs\\comp47350py37\\lib\\site-packages\\pandas\\plotting\\_matplotlib\\tools.py:313: MatplotlibDeprecationWarning: \n",
      "The colNum attribute was deprecated in Matplotlib 3.2 and will be removed two minor releases later. Use ax.get_subplotspec().colspan.start instead.\n",
      "  if not layout[ax.rowNum + 1, ax.colNum]:\n"
     ]
    },
    {
     "data": {
      "image/png": "[encoded data removed]",
      "text/plain": [
       "<Figure size 2160x2160 with 16 Axes>"
      ]
     },
     "metadata": {
      "needs_background": "light"
     },
     "output_type": "display_data"
    }
   ],
   "source": [
    "continuous_columns = data.select_dtypes(['int64']).columns\n",
    "pp = PdfPages(\"continuous_features.pdf\")\n",
    "pp=data[continuous_columns].plot(kind='box', subplots=True, figsize=(30,30), layout=(4,4), sharex=False, sharey=False)\n",
    "plt.savefig('continuous_features.png')"
   ]
  },
  {
   "cell_type": "code",
   "execution_count": 18,
   "metadata": {},
   "outputs": [],
   "source": [
    "#Save df to new csv file\n",
    "data.to_csv('updated_bikedata.csv')"
   ]
  },
  {
   "cell_type": "code",
   "execution_count": 19,
   "metadata": {},
   "outputs": [
    {
     "data": {
      "text/html": [
       "<div>\n",
       "<style scoped>\n",
       "    .dataframe tbody tr th:only-of-type {\n",
       "        vertical-align: middle;\n",
       "    }\n",
       "\n",
       "    .dataframe tbody tr th {\n",
       "        vertical-align: top;\n",
       "    }\n",
       "\n",
       "    .dataframe thead th {\n",
       "        text-align: right;\n",
       "    }\n",
       "</style>\n",
       "<table border=\"1\" class=\"dataframe\">\n",
       "  <thead>\n",
       "    <tr style=\"text-align: right;\">\n",
       "      <th></th>\n",
       "      <th>number</th>\n",
       "      <th>contract_name</th>\n",
       "      <th>name</th>\n",
       "      <th>bike_stands</th>\n",
       "      <th>available_bike_stands</th>\n",
       "      <th>available_bikes</th>\n",
       "      <th>status</th>\n",
       "      <th>last_update</th>\n",
       "    </tr>\n",
       "  </thead>\n",
       "  <tbody>\n",
       "    <tr>\n",
       "      <th>0</th>\n",
       "      <td>42</td>\n",
       "      <td>dublin</td>\n",
       "      <td>SMITHFIELD NORTH</td>\n",
       "      <td>30</td>\n",
       "      <td>24</td>\n",
       "      <td>6</td>\n",
       "      <td>OPEN</td>\n",
       "      <td>2020-03-04 09:38:19</td>\n",
       "    </tr>\n",
       "    <tr>\n",
       "      <th>1</th>\n",
       "      <td>30</td>\n",
       "      <td>dublin</td>\n",
       "      <td>PARNELL SQUARE NORTH</td>\n",
       "      <td>20</td>\n",
       "      <td>19</td>\n",
       "      <td>1</td>\n",
       "      <td>OPEN</td>\n",
       "      <td>2020-03-04 09:30:14</td>\n",
       "    </tr>\n",
       "    <tr>\n",
       "      <th>2</th>\n",
       "      <td>54</td>\n",
       "      <td>dublin</td>\n",
       "      <td>CLONMEL STREET</td>\n",
       "      <td>33</td>\n",
       "      <td>14</td>\n",
       "      <td>19</td>\n",
       "      <td>OPEN</td>\n",
       "      <td>2020-03-04 09:39:15</td>\n",
       "    </tr>\n",
       "    <tr>\n",
       "      <th>3</th>\n",
       "      <td>108</td>\n",
       "      <td>dublin</td>\n",
       "      <td>AVONDALE ROAD</td>\n",
       "      <td>40</td>\n",
       "      <td>40</td>\n",
       "      <td>0</td>\n",
       "      <td>OPEN</td>\n",
       "      <td>2020-03-04 09:36:45</td>\n",
       "    </tr>\n",
       "    <tr>\n",
       "      <th>4</th>\n",
       "      <td>56</td>\n",
       "      <td>dublin</td>\n",
       "      <td>MOUNT STREET LOWER</td>\n",
       "      <td>40</td>\n",
       "      <td>18</td>\n",
       "      <td>21</td>\n",
       "      <td>OPEN</td>\n",
       "      <td>2020-03-04 09:39:33</td>\n",
       "    </tr>\n",
       "  </tbody>\n",
       "</table>\n",
       "</div>"
      ],
      "text/plain": [
       "  number contract_name                  name  bike_stands  \\\n",
       "0     42        dublin      SMITHFIELD NORTH           30   \n",
       "1     30        dublin  PARNELL SQUARE NORTH           20   \n",
       "2     54        dublin        CLONMEL STREET           33   \n",
       "3    108        dublin         AVONDALE ROAD           40   \n",
       "4     56        dublin    MOUNT STREET LOWER           40   \n",
       "\n",
       "   available_bike_stands  available_bikes status         last_update  \n",
       "0                     24                6   OPEN 2020-03-04 09:38:19  \n",
       "1                     19                1   OPEN 2020-03-04 09:30:14  \n",
       "2                     14               19   OPEN 2020-03-04 09:39:15  \n",
       "3                     40                0   OPEN 2020-03-04 09:36:45  \n",
       "4                     18               21   OPEN 2020-03-04 09:39:33  "
      ]
     },
     "execution_count": 19,
     "metadata": {},
     "output_type": "execute_result"
    }
   ],
   "source": [
    "data.head()"
   ]
  }
 ],
 "metadata": {
  "kernelspec": {
   "display_name": "Python 3",
   "language": "python",
   "name": "python3"
  },
  "language_info": {
   "codemirror_mode": {
    "name": "ipython",
    "version": 3
   },
   "file_extension": ".py",
   "mimetype": "text/x-python",
   "name": "python",
   "nbconvert_exporter": "python",
   "pygments_lexer": "ipython3",
   "version": "3.7.6"
  }
 },
 "nbformat": 4,
 "nbformat_minor": 2
}
