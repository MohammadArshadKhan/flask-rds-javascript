{
 "cells": [
  {
   "cell_type": "code",
   "execution_count": 1,
   "metadata": {},
   "outputs": [],
   "source": [
    "#Import package pandas for data analysis\n",
    "import pandas as pd\n",
    "\n",
    "# Import package numpy for numeric computing\n",
    "import numpy as np\n",
    "\n",
    "# Import package matplotlib for visualisation/plotting\n",
    "import matplotlib.pyplot as plt\n",
    "\n",
    "#import PdfPages to save to pdf\n",
    "from matplotlib.backends.backend_pdf import PdfPages\n",
    "\n",
    "import seaborn as sns"
   ]
  },
  {
   "cell_type": "code",
   "execution_count": 2,
   "metadata": {},
   "outputs": [],
   "source": [
    "# Reading from a csv file, into a data frame\n",
    "data=pd.read_csv(\"weatherdata.csv\")"
   ]
  },
  {
   "cell_type": "code",
   "execution_count": 3,
   "metadata": {},
   "outputs": [
    {
     "data": {
      "text/html": [
       "<div>\n",
       "<style scoped>\n",
       "    .dataframe tbody tr th:only-of-type {\n",
       "        vertical-align: middle;\n",
       "    }\n",
       "\n",
       "    .dataframe tbody tr th {\n",
       "        vertical-align: top;\n",
       "    }\n",
       "\n",
       "    .dataframe thead th {\n",
       "        text-align: right;\n",
       "    }\n",
       "</style>\n",
       "<table border=\"1\" class=\"dataframe\">\n",
       "  <thead>\n",
       "    <tr style=\"text-align: right;\">\n",
       "      <th></th>\n",
       "      <th>coord_lon</th>\n",
       "      <th>coord_lat</th>\n",
       "      <th>weather_id</th>\n",
       "      <th>weather_main</th>\n",
       "      <th>weather_description</th>\n",
       "      <th>weather_icon</th>\n",
       "      <th>weather_base</th>\n",
       "      <th>main_temp</th>\n",
       "      <th>feels_like</th>\n",
       "      <th>main_temp_min</th>\n",
       "      <th>...</th>\n",
       "      <th>clouds_all</th>\n",
       "      <th>dt</th>\n",
       "      <th>sys_type</th>\n",
       "      <th>sys_id</th>\n",
       "      <th>sys_country</th>\n",
       "      <th>sys_sunrise</th>\n",
       "      <th>sys_sunset</th>\n",
       "      <th>city_id</th>\n",
       "      <th>city_name</th>\n",
       "      <th>cod</th>\n",
       "    </tr>\n",
       "  </thead>\n",
       "  <tbody>\n",
       "    <tr>\n",
       "      <th>0</th>\n",
       "      <td>-6.25</td>\n",
       "      <td>53.36</td>\n",
       "      <td>803</td>\n",
       "      <td>Clouds</td>\n",
       "      <td>broken clouds</td>\n",
       "      <td>04d</td>\n",
       "      <td>stations</td>\n",
       "      <td>274.81</td>\n",
       "      <td>271.01</td>\n",
       "      <td>273.15</td>\n",
       "      <td>...</td>\n",
       "      <td>75</td>\n",
       "      <td>2020-03-04 08:31:30</td>\n",
       "      <td>1</td>\n",
       "      <td>1565</td>\n",
       "      <td>IE</td>\n",
       "      <td>2020-03-04 07:05:02</td>\n",
       "      <td>2020-03-04 18:08:34</td>\n",
       "      <td>7778677</td>\n",
       "      <td>Dublin City</td>\n",
       "      <td>200</td>\n",
       "    </tr>\n",
       "    <tr>\n",
       "      <th>1</th>\n",
       "      <td>-6.25</td>\n",
       "      <td>53.36</td>\n",
       "      <td>803</td>\n",
       "      <td>Clouds</td>\n",
       "      <td>broken clouds</td>\n",
       "      <td>04d</td>\n",
       "      <td>stations</td>\n",
       "      <td>274.96</td>\n",
       "      <td>271.18</td>\n",
       "      <td>273.15</td>\n",
       "      <td>...</td>\n",
       "      <td>75</td>\n",
       "      <td>2020-03-04 08:45:02</td>\n",
       "      <td>1</td>\n",
       "      <td>1565</td>\n",
       "      <td>IE</td>\n",
       "      <td>2020-03-04 07:05:02</td>\n",
       "      <td>2020-03-04 18:08:34</td>\n",
       "      <td>7778677</td>\n",
       "      <td>Dublin City</td>\n",
       "      <td>200</td>\n",
       "    </tr>\n",
       "    <tr>\n",
       "      <th>2</th>\n",
       "      <td>-6.25</td>\n",
       "      <td>53.36</td>\n",
       "      <td>803</td>\n",
       "      <td>Clouds</td>\n",
       "      <td>broken clouds</td>\n",
       "      <td>04d</td>\n",
       "      <td>stations</td>\n",
       "      <td>274.96</td>\n",
       "      <td>271.18</td>\n",
       "      <td>273.15</td>\n",
       "      <td>...</td>\n",
       "      <td>75</td>\n",
       "      <td>2020-03-04 08:45:02</td>\n",
       "      <td>1</td>\n",
       "      <td>1565</td>\n",
       "      <td>IE</td>\n",
       "      <td>2020-03-04 07:05:02</td>\n",
       "      <td>2020-03-04 18:08:34</td>\n",
       "      <td>7778677</td>\n",
       "      <td>Dublin City</td>\n",
       "      <td>200</td>\n",
       "    </tr>\n",
       "    <tr>\n",
       "      <th>3</th>\n",
       "      <td>-6.25</td>\n",
       "      <td>53.36</td>\n",
       "      <td>803</td>\n",
       "      <td>Clouds</td>\n",
       "      <td>broken clouds</td>\n",
       "      <td>04d</td>\n",
       "      <td>stations</td>\n",
       "      <td>275.38</td>\n",
       "      <td>272.64</td>\n",
       "      <td>273.15</td>\n",
       "      <td>...</td>\n",
       "      <td>75</td>\n",
       "      <td>2020-03-04 09:10:02</td>\n",
       "      <td>1</td>\n",
       "      <td>1565</td>\n",
       "      <td>IE</td>\n",
       "      <td>2020-03-04 07:05:02</td>\n",
       "      <td>2020-03-04 18:08:34</td>\n",
       "      <td>7778677</td>\n",
       "      <td>Dublin City</td>\n",
       "      <td>200</td>\n",
       "    </tr>\n",
       "    <tr>\n",
       "      <th>4</th>\n",
       "      <td>-6.25</td>\n",
       "      <td>53.36</td>\n",
       "      <td>803</td>\n",
       "      <td>Clouds</td>\n",
       "      <td>broken clouds</td>\n",
       "      <td>04d</td>\n",
       "      <td>stations</td>\n",
       "      <td>276.20</td>\n",
       "      <td>273.19</td>\n",
       "      <td>275.15</td>\n",
       "      <td>...</td>\n",
       "      <td>75</td>\n",
       "      <td>2020-03-04 09:25:28</td>\n",
       "      <td>1</td>\n",
       "      <td>1565</td>\n",
       "      <td>IE</td>\n",
       "      <td>2020-03-04 07:05:02</td>\n",
       "      <td>2020-03-04 18:08:34</td>\n",
       "      <td>7778677</td>\n",
       "      <td>Dublin City</td>\n",
       "      <td>200</td>\n",
       "    </tr>\n",
       "  </tbody>\n",
       "</table>\n",
       "<p>5 rows × 26 columns</p>\n",
       "</div>"
      ],
      "text/plain": [
       "   coord_lon  coord_lat  weather_id weather_main weather_description  \\\n",
       "0      -6.25      53.36         803       Clouds       broken clouds   \n",
       "1      -6.25      53.36         803       Clouds       broken clouds   \n",
       "2      -6.25      53.36         803       Clouds       broken clouds   \n",
       "3      -6.25      53.36         803       Clouds       broken clouds   \n",
       "4      -6.25      53.36         803       Clouds       broken clouds   \n",
       "\n",
       "  weather_icon weather_base  main_temp  feels_like  main_temp_min  ...  \\\n",
       "0          04d     stations     274.81      271.01         273.15  ...   \n",
       "1          04d     stations     274.96      271.18         273.15  ...   \n",
       "2          04d     stations     274.96      271.18         273.15  ...   \n",
       "3          04d     stations     275.38      272.64         273.15  ...   \n",
       "4          04d     stations     276.20      273.19         275.15  ...   \n",
       "\n",
       "   clouds_all                   dt  sys_type  sys_id  sys_country  \\\n",
       "0          75  2020-03-04 08:31:30         1    1565           IE   \n",
       "1          75  2020-03-04 08:45:02         1    1565           IE   \n",
       "2          75  2020-03-04 08:45:02         1    1565           IE   \n",
       "3          75  2020-03-04 09:10:02         1    1565           IE   \n",
       "4          75  2020-03-04 09:25:28         1    1565           IE   \n",
       "\n",
       "           sys_sunrise           sys_sunset  city_id    city_name  cod  \n",
       "0  2020-03-04 07:05:02  2020-03-04 18:08:34  7778677  Dublin City  200  \n",
       "1  2020-03-04 07:05:02  2020-03-04 18:08:34  7778677  Dublin City  200  \n",
       "2  2020-03-04 07:05:02  2020-03-04 18:08:34  7778677  Dublin City  200  \n",
       "3  2020-03-04 07:05:02  2020-03-04 18:08:34  7778677  Dublin City  200  \n",
       "4  2020-03-04 07:05:02  2020-03-04 18:08:34  7778677  Dublin City  200  \n",
       "\n",
       "[5 rows x 26 columns]"
      ]
     },
     "execution_count": 3,
     "metadata": {},
     "output_type": "execute_result"
    }
   ],
   "source": [
    "# Print the first 5 rows\n",
    "data.head(5)"
   ]
  },
  {
   "cell_type": "code",
   "execution_count": 4,
   "metadata": {},
   "outputs": [
    {
     "data": {
      "text/html": [
       "<div>\n",
       "<style scoped>\n",
       "    .dataframe tbody tr th:only-of-type {\n",
       "        vertical-align: middle;\n",
       "    }\n",
       "\n",
       "    .dataframe tbody tr th {\n",
       "        vertical-align: top;\n",
       "    }\n",
       "\n",
       "    .dataframe thead th {\n",
       "        text-align: right;\n",
       "    }\n",
       "</style>\n",
       "<table border=\"1\" class=\"dataframe\">\n",
       "  <thead>\n",
       "    <tr style=\"text-align: right;\">\n",
       "      <th></th>\n",
       "      <th>coord_lon</th>\n",
       "      <th>coord_lat</th>\n",
       "      <th>weather_id</th>\n",
       "      <th>weather_main</th>\n",
       "      <th>weather_description</th>\n",
       "      <th>weather_icon</th>\n",
       "      <th>weather_base</th>\n",
       "      <th>main_temp</th>\n",
       "      <th>feels_like</th>\n",
       "      <th>main_temp_min</th>\n",
       "      <th>...</th>\n",
       "      <th>clouds_all</th>\n",
       "      <th>dt</th>\n",
       "      <th>sys_type</th>\n",
       "      <th>sys_id</th>\n",
       "      <th>sys_country</th>\n",
       "      <th>sys_sunrise</th>\n",
       "      <th>sys_sunset</th>\n",
       "      <th>city_id</th>\n",
       "      <th>city_name</th>\n",
       "      <th>cod</th>\n",
       "    </tr>\n",
       "  </thead>\n",
       "  <tbody>\n",
       "    <tr>\n",
       "      <th>5682</th>\n",
       "      <td>-6.25</td>\n",
       "      <td>53.36</td>\n",
       "      <td>803</td>\n",
       "      <td>Clouds</td>\n",
       "      <td>broken clouds</td>\n",
       "      <td>04d</td>\n",
       "      <td>stations</td>\n",
       "      <td>282.85</td>\n",
       "      <td>278.95</td>\n",
       "      <td>281.48</td>\n",
       "      <td>...</td>\n",
       "      <td>75</td>\n",
       "      <td>2020-03-24 09:30:02</td>\n",
       "      <td>1</td>\n",
       "      <td>1565</td>\n",
       "      <td>IE</td>\n",
       "      <td>2020-03-24 06:16:52</td>\n",
       "      <td>2020-03-24 18:45:19</td>\n",
       "      <td>7778677</td>\n",
       "      <td>Dublin City</td>\n",
       "      <td>200</td>\n",
       "    </tr>\n",
       "    <tr>\n",
       "      <th>5683</th>\n",
       "      <td>-6.25</td>\n",
       "      <td>53.36</td>\n",
       "      <td>803</td>\n",
       "      <td>Clouds</td>\n",
       "      <td>broken clouds</td>\n",
       "      <td>04d</td>\n",
       "      <td>stations</td>\n",
       "      <td>283.18</td>\n",
       "      <td>279.34</td>\n",
       "      <td>281.48</td>\n",
       "      <td>...</td>\n",
       "      <td>75</td>\n",
       "      <td>2020-03-24 09:35:02</td>\n",
       "      <td>1</td>\n",
       "      <td>1565</td>\n",
       "      <td>IE</td>\n",
       "      <td>2020-03-24 06:16:52</td>\n",
       "      <td>2020-03-24 18:45:19</td>\n",
       "      <td>7778677</td>\n",
       "      <td>Dublin City</td>\n",
       "      <td>200</td>\n",
       "    </tr>\n",
       "    <tr>\n",
       "      <th>5684</th>\n",
       "      <td>-6.25</td>\n",
       "      <td>53.36</td>\n",
       "      <td>803</td>\n",
       "      <td>Clouds</td>\n",
       "      <td>broken clouds</td>\n",
       "      <td>04d</td>\n",
       "      <td>stations</td>\n",
       "      <td>282.61</td>\n",
       "      <td>278.86</td>\n",
       "      <td>282.04</td>\n",
       "      <td>...</td>\n",
       "      <td>75</td>\n",
       "      <td>2020-03-24 09:50:02</td>\n",
       "      <td>1</td>\n",
       "      <td>1565</td>\n",
       "      <td>IE</td>\n",
       "      <td>2020-03-24 06:16:52</td>\n",
       "      <td>2020-03-24 18:45:19</td>\n",
       "      <td>7778677</td>\n",
       "      <td>Dublin City</td>\n",
       "      <td>200</td>\n",
       "    </tr>\n",
       "    <tr>\n",
       "      <th>5685</th>\n",
       "      <td>-6.25</td>\n",
       "      <td>53.36</td>\n",
       "      <td>803</td>\n",
       "      <td>Clouds</td>\n",
       "      <td>broken clouds</td>\n",
       "      <td>04d</td>\n",
       "      <td>stations</td>\n",
       "      <td>282.61</td>\n",
       "      <td>278.86</td>\n",
       "      <td>282.04</td>\n",
       "      <td>...</td>\n",
       "      <td>75</td>\n",
       "      <td>2020-03-24 09:50:02</td>\n",
       "      <td>1</td>\n",
       "      <td>1565</td>\n",
       "      <td>IE</td>\n",
       "      <td>2020-03-24 06:16:52</td>\n",
       "      <td>2020-03-24 18:45:19</td>\n",
       "      <td>7778677</td>\n",
       "      <td>Dublin City</td>\n",
       "      <td>200</td>\n",
       "    </tr>\n",
       "    <tr>\n",
       "      <th>5686</th>\n",
       "      <td>-6.25</td>\n",
       "      <td>53.36</td>\n",
       "      <td>803</td>\n",
       "      <td>Clouds</td>\n",
       "      <td>broken clouds</td>\n",
       "      <td>04d</td>\n",
       "      <td>stations</td>\n",
       "      <td>282.62</td>\n",
       "      <td>278.87</td>\n",
       "      <td>282.04</td>\n",
       "      <td>...</td>\n",
       "      <td>75</td>\n",
       "      <td>2020-03-24 10:00:03</td>\n",
       "      <td>1</td>\n",
       "      <td>1565</td>\n",
       "      <td>IE</td>\n",
       "      <td>2020-03-24 06:16:52</td>\n",
       "      <td>2020-03-24 18:45:19</td>\n",
       "      <td>7778677</td>\n",
       "      <td>Dublin City</td>\n",
       "      <td>200</td>\n",
       "    </tr>\n",
       "  </tbody>\n",
       "</table>\n",
       "<p>5 rows × 26 columns</p>\n",
       "</div>"
      ],
      "text/plain": [
       "      coord_lon  coord_lat  weather_id weather_main weather_description  \\\n",
       "5682      -6.25      53.36         803       Clouds       broken clouds   \n",
       "5683      -6.25      53.36         803       Clouds       broken clouds   \n",
       "5684      -6.25      53.36         803       Clouds       broken clouds   \n",
       "5685      -6.25      53.36         803       Clouds       broken clouds   \n",
       "5686      -6.25      53.36         803       Clouds       broken clouds   \n",
       "\n",
       "     weather_icon weather_base  main_temp  feels_like  main_temp_min  ...  \\\n",
       "5682          04d     stations     282.85      278.95         281.48  ...   \n",
       "5683          04d     stations     283.18      279.34         281.48  ...   \n",
       "5684          04d     stations     282.61      278.86         282.04  ...   \n",
       "5685          04d     stations     282.61      278.86         282.04  ...   \n",
       "5686          04d     stations     282.62      278.87         282.04  ...   \n",
       "\n",
       "      clouds_all                   dt  sys_type  sys_id  sys_country  \\\n",
       "5682          75  2020-03-24 09:30:02         1    1565           IE   \n",
       "5683          75  2020-03-24 09:35:02         1    1565           IE   \n",
       "5684          75  2020-03-24 09:50:02         1    1565           IE   \n",
       "5685          75  2020-03-24 09:50:02         1    1565           IE   \n",
       "5686          75  2020-03-24 10:00:03         1    1565           IE   \n",
       "\n",
       "              sys_sunrise           sys_sunset  city_id    city_name  cod  \n",
       "5682  2020-03-24 06:16:52  2020-03-24 18:45:19  7778677  Dublin City  200  \n",
       "5683  2020-03-24 06:16:52  2020-03-24 18:45:19  7778677  Dublin City  200  \n",
       "5684  2020-03-24 06:16:52  2020-03-24 18:45:19  7778677  Dublin City  200  \n",
       "5685  2020-03-24 06:16:52  2020-03-24 18:45:19  7778677  Dublin City  200  \n",
       "5686  2020-03-24 06:16:52  2020-03-24 18:45:19  7778677  Dublin City  200  \n",
       "\n",
       "[5 rows x 26 columns]"
      ]
     },
     "execution_count": 4,
     "metadata": {},
     "output_type": "execute_result"
    }
   ],
   "source": [
    "# Print the last 5 rows\n",
    "data.tail(5)"
   ]
  },
  {
   "cell_type": "code",
   "execution_count": 5,
   "metadata": {},
   "outputs": [
    {
     "data": {
      "text/plain": [
       "(5687, 26)"
      ]
     },
     "execution_count": 5,
     "metadata": {},
     "output_type": "execute_result"
    }
   ],
   "source": [
    "#Droping duplicate rows and columns\n",
    "data=data.T.drop_duplicates().T\n",
    "\n",
    "data.shape"
   ]
  },
  {
   "cell_type": "code",
   "execution_count": 6,
   "metadata": {},
   "outputs": [
    {
     "name": "stdout",
     "output_type": "stream",
     "text": [
      "Number of duplicate (excluding first) columns in the table is:  0\n",
      "Number of duplicate (including first) columns in the table is:  0\n"
     ]
    }
   ],
   "source": [
    "# Check for duplicate columns\n",
    "#First transpose the df so columns become rows, then apply the same check as above\n",
    "dfT = data.T\n",
    "print(\"Number of duplicate (excluding first) columns in the table is: \", dfT.duplicated().sum())\n",
    "print(\"Number of duplicate (including first) columns in the table is: \",  dfT[dfT.duplicated(keep=False)].shape[0])"
   ]
  },
  {
   "cell_type": "code",
   "execution_count": 7,
   "metadata": {},
   "outputs": [],
   "source": [
    "data=data.drop_duplicates()"
   ]
  },
  {
   "cell_type": "code",
   "execution_count": 8,
   "metadata": {},
   "outputs": [
    {
     "data": {
      "text/plain": [
       "(3337, 26)"
      ]
     },
     "execution_count": 8,
     "metadata": {},
     "output_type": "execute_result"
    }
   ],
   "source": [
    "data.shape"
   ]
  },
  {
   "cell_type": "code",
   "execution_count": 9,
   "metadata": {},
   "outputs": [
    {
     "name": "stdout",
     "output_type": "stream",
     "text": [
      "Number of duplicate (excluding first) rows in the table is:  0\n",
      "Number of duplicate rows (including first) in the table is: 0\n"
     ]
    }
   ],
   "source": [
    "#Print the number of duplicates, without the original rows that were duplicated\n",
    "print('Number of duplicate (excluding first) rows in the table is: ', data.duplicated().sum())\n",
    "\n",
    "# Check for duplicate rows. \n",
    "# Use \"keep=False\" to mark all duplicates as true, including the original rows that were duplicated.\n",
    "print('Number of duplicate rows (including first) in the table is:', data[data.duplicated(keep=False)].shape[0])"
   ]
  },
  {
   "cell_type": "code",
   "execution_count": 10,
   "metadata": {},
   "outputs": [
    {
     "data": {
      "text/plain": [
       "coord_lon                 0\n",
       "coord_lat                 0\n",
       "weather_id                0\n",
       "weather_main              0\n",
       "weather_description       0\n",
       "weather_icon              0\n",
       "weather_base              0\n",
       "main_temp                 0\n",
       "feels_like                0\n",
       "main_temp_min             0\n",
       "main_temp_max             0\n",
       "main_pressure             0\n",
       "main_humidity             0\n",
       "main_visibility           0\n",
       "wind_speed                0\n",
       "wind_deg               3335\n",
       "clouds_all                0\n",
       "dt                        0\n",
       "sys_type                  0\n",
       "sys_id                    0\n",
       "sys_country               0\n",
       "sys_sunrise               0\n",
       "sys_sunset                0\n",
       "city_id                   0\n",
       "city_name                 0\n",
       "cod                       0\n",
       "dtype: int64"
      ]
     },
     "execution_count": 10,
     "metadata": {},
     "output_type": "execute_result"
    }
   ],
   "source": [
    "# checking how many null values in the data set\n",
    "data.isnull().sum()"
   ]
  },
  {
   "cell_type": "code",
   "execution_count": 11,
   "metadata": {},
   "outputs": [],
   "source": [
    "data = data.drop('wind_deg', 1)"
   ]
  },
  {
   "cell_type": "code",
   "execution_count": 12,
   "metadata": {},
   "outputs": [
    {
     "data": {
      "text/plain": [
       "coord_lon              object\n",
       "coord_lat              object\n",
       "weather_id             object\n",
       "weather_main           object\n",
       "weather_description    object\n",
       "weather_icon           object\n",
       "weather_base           object\n",
       "main_temp              object\n",
       "feels_like             object\n",
       "main_temp_min          object\n",
       "main_temp_max          object\n",
       "main_pressure          object\n",
       "main_humidity          object\n",
       "main_visibility        object\n",
       "wind_speed             object\n",
       "clouds_all             object\n",
       "dt                     object\n",
       "sys_type               object\n",
       "sys_id                 object\n",
       "sys_country            object\n",
       "sys_sunrise            object\n",
       "sys_sunset             object\n",
       "city_id                object\n",
       "city_name              object\n",
       "cod                    object\n",
       "dtype: object"
      ]
     },
     "execution_count": 12,
     "metadata": {},
     "output_type": "execute_result"
    }
   ],
   "source": [
    "data.dtypes"
   ]
  },
  {
   "cell_type": "code",
   "execution_count": 13,
   "metadata": {},
   "outputs": [],
   "source": [
    "# Select columns containing categorical data\n",
    "categorical_columns = data[['weather_main', 'weather_description', 'weather_icon', 'weather_base']].columns\n",
    "\n",
    "# Convert data type to category for these columns\n",
    "for column in categorical_columns:\n",
    "    data[column] = data[column].astype('category')"
   ]
  },
  {
   "cell_type": "code",
   "execution_count": 14,
   "metadata": {},
   "outputs": [],
   "source": [
    "# Select columns containing continous data\n",
    "float_columns=data[['coord_lon', 'coord_lat', 'main_temp', 'feels_like',\"main_temp_min\",\"wind_speed\",\n",
    "                    \"main_temp_max\",]].columns\n",
    "\n",
    "for column in float_columns:\n",
    "    data[column] = data[column].astype('float64')\n",
    "\n",
    "int_columns=data[['weather_id', 'main_pressure', 'main_humidity', 'main_visibility',\"clouds_all\",]].columns\n",
    "\n",
    "for column in int_columns:\n",
    "    data[column] = data[column].astype('int64')\n"
   ]
  },
  {
   "cell_type": "code",
   "execution_count": 15,
   "metadata": {},
   "outputs": [],
   "source": [
    "#convert the dateTime to get rid of the am and pm\n",
    "def date(x):\n",
    "    formats = pd.to_datetime(x, errors='coerce')\n",
    "    return formats\n",
    "\n",
    "data['dt'] = data['dt'].apply(date)\n",
    "data['sys_sunrise'] = data['sys_sunrise'].apply(date)\n",
    "data['sys_sunset'] = data['sys_sunset'].apply(date)\n"
   ]
  },
  {
   "cell_type": "code",
   "execution_count": 16,
   "metadata": {},
   "outputs": [
    {
     "data": {
      "text/html": [
       "<div>\n",
       "<style scoped>\n",
       "    .dataframe tbody tr th:only-of-type {\n",
       "        vertical-align: middle;\n",
       "    }\n",
       "\n",
       "    .dataframe tbody tr th {\n",
       "        vertical-align: top;\n",
       "    }\n",
       "\n",
       "    .dataframe thead th {\n",
       "        text-align: right;\n",
       "    }\n",
       "</style>\n",
       "<table border=\"1\" class=\"dataframe\">\n",
       "  <thead>\n",
       "    <tr style=\"text-align: right;\">\n",
       "      <th></th>\n",
       "      <th>count</th>\n",
       "      <th>unique</th>\n",
       "      <th>top</th>\n",
       "      <th>freq</th>\n",
       "      <th>first</th>\n",
       "      <th>last</th>\n",
       "    </tr>\n",
       "  </thead>\n",
       "  <tbody>\n",
       "    <tr>\n",
       "      <th>dt</th>\n",
       "      <td>3337</td>\n",
       "      <td>3337</td>\n",
       "      <td>2020-03-14 08:00:01</td>\n",
       "      <td>1</td>\n",
       "      <td>2020-03-04 08:31:30</td>\n",
       "      <td>2020-03-24 10:00:03</td>\n",
       "    </tr>\n",
       "    <tr>\n",
       "      <th>sys_sunrise</th>\n",
       "      <td>3337</td>\n",
       "      <td>21</td>\n",
       "      <td>2020-03-08 06:55:36</td>\n",
       "      <td>180</td>\n",
       "      <td>2020-03-04 07:05:02</td>\n",
       "      <td>2020-03-24 06:16:52</td>\n",
       "    </tr>\n",
       "    <tr>\n",
       "      <th>sys_sunset</th>\n",
       "      <td>3337</td>\n",
       "      <td>21</td>\n",
       "      <td>2020-03-08 18:16:03</td>\n",
       "      <td>180</td>\n",
       "      <td>2020-03-04 18:08:34</td>\n",
       "      <td>2020-03-24 18:45:19</td>\n",
       "    </tr>\n",
       "  </tbody>\n",
       "</table>\n",
       "</div>"
      ],
      "text/plain": [
       "            count unique                 top freq               first  \\\n",
       "dt           3337   3337 2020-03-14 08:00:01    1 2020-03-04 08:31:30   \n",
       "sys_sunrise  3337     21 2020-03-08 06:55:36  180 2020-03-04 07:05:02   \n",
       "sys_sunset   3337     21 2020-03-08 18:16:03  180 2020-03-04 18:08:34   \n",
       "\n",
       "                           last  \n",
       "dt          2020-03-24 10:00:03  \n",
       "sys_sunrise 2020-03-24 06:16:52  \n",
       "sys_sunset  2020-03-24 18:45:19  "
      ]
     },
     "execution_count": 16,
     "metadata": {},
     "output_type": "execute_result"
    }
   ],
   "source": [
    "# Descriptive statistics for all the DateTime features\n",
    "\n",
    "data.select_dtypes(['datetime64[ns]']).describe().T"
   ]
  },
  {
   "cell_type": "code",
   "execution_count": 17,
   "metadata": {},
   "outputs": [
    {
     "data": {
      "text/html": [
       "<div>\n",
       "<style scoped>\n",
       "    .dataframe tbody tr th:only-of-type {\n",
       "        vertical-align: middle;\n",
       "    }\n",
       "\n",
       "    .dataframe tbody tr th {\n",
       "        vertical-align: top;\n",
       "    }\n",
       "\n",
       "    .dataframe thead th {\n",
       "        text-align: right;\n",
       "    }\n",
       "</style>\n",
       "<table border=\"1\" class=\"dataframe\">\n",
       "  <thead>\n",
       "    <tr style=\"text-align: right;\">\n",
       "      <th></th>\n",
       "      <th>count</th>\n",
       "      <th>unique</th>\n",
       "      <th>top</th>\n",
       "      <th>freq</th>\n",
       "    </tr>\n",
       "  </thead>\n",
       "  <tbody>\n",
       "    <tr>\n",
       "      <th>weather_main</th>\n",
       "      <td>3337</td>\n",
       "      <td>7</td>\n",
       "      <td>Clouds</td>\n",
       "      <td>2597</td>\n",
       "    </tr>\n",
       "    <tr>\n",
       "      <th>weather_description</th>\n",
       "      <td>3337</td>\n",
       "      <td>16</td>\n",
       "      <td>broken clouds</td>\n",
       "      <td>1604</td>\n",
       "    </tr>\n",
       "    <tr>\n",
       "      <th>weather_icon</th>\n",
       "      <td>3337</td>\n",
       "      <td>13</td>\n",
       "      <td>04d</td>\n",
       "      <td>922</td>\n",
       "    </tr>\n",
       "    <tr>\n",
       "      <th>weather_base</th>\n",
       "      <td>3337</td>\n",
       "      <td>1</td>\n",
       "      <td>stations</td>\n",
       "      <td>3337</td>\n",
       "    </tr>\n",
       "  </tbody>\n",
       "</table>\n",
       "</div>"
      ],
      "text/plain": [
       "                    count unique            top  freq\n",
       "weather_main         3337      7         Clouds  2597\n",
       "weather_description  3337     16  broken clouds  1604\n",
       "weather_icon         3337     13            04d   922\n",
       "weather_base         3337      1       stations  3337"
      ]
     },
     "execution_count": 17,
     "metadata": {},
     "output_type": "execute_result"
    }
   ],
   "source": [
    "#Prepare a table with descriptive statistics for all the category features.\n",
    "data[categorical_columns].describe().T"
   ]
  },
  {
   "cell_type": "code",
   "execution_count": 18,
   "metadata": {},
   "outputs": [
    {
     "data": {
      "text/html": [
       "<div>\n",
       "<style scoped>\n",
       "    .dataframe tbody tr th:only-of-type {\n",
       "        vertical-align: middle;\n",
       "    }\n",
       "\n",
       "    .dataframe tbody tr th {\n",
       "        vertical-align: top;\n",
       "    }\n",
       "\n",
       "    .dataframe thead th {\n",
       "        text-align: right;\n",
       "    }\n",
       "</style>\n",
       "<table border=\"1\" class=\"dataframe\">\n",
       "  <thead>\n",
       "    <tr style=\"text-align: right;\">\n",
       "      <th></th>\n",
       "      <th>count</th>\n",
       "      <th>mean</th>\n",
       "      <th>std</th>\n",
       "      <th>min</th>\n",
       "      <th>25%</th>\n",
       "      <th>50%</th>\n",
       "      <th>75%</th>\n",
       "      <th>max</th>\n",
       "    </tr>\n",
       "  </thead>\n",
       "  <tbody>\n",
       "    <tr>\n",
       "      <th>coord_lon</th>\n",
       "      <td>3337.0</td>\n",
       "      <td>-6.250000</td>\n",
       "      <td>0.000000</td>\n",
       "      <td>-6.25</td>\n",
       "      <td>-6.25</td>\n",
       "      <td>-6.25</td>\n",
       "      <td>-6.25</td>\n",
       "      <td>-6.25</td>\n",
       "    </tr>\n",
       "    <tr>\n",
       "      <th>coord_lat</th>\n",
       "      <td>3337.0</td>\n",
       "      <td>53.360000</td>\n",
       "      <td>0.000000</td>\n",
       "      <td>53.36</td>\n",
       "      <td>53.36</td>\n",
       "      <td>53.36</td>\n",
       "      <td>53.36</td>\n",
       "      <td>53.36</td>\n",
       "    </tr>\n",
       "    <tr>\n",
       "      <th>weather_id</th>\n",
       "      <td>3337.0</td>\n",
       "      <td>731.409050</td>\n",
       "      <td>138.887828</td>\n",
       "      <td>300.00</td>\n",
       "      <td>801.00</td>\n",
       "      <td>803.00</td>\n",
       "      <td>803.00</td>\n",
       "      <td>804.00</td>\n",
       "    </tr>\n",
       "    <tr>\n",
       "      <th>main_temp</th>\n",
       "      <td>3337.0</td>\n",
       "      <td>279.614330</td>\n",
       "      <td>3.104381</td>\n",
       "      <td>271.43</td>\n",
       "      <td>278.15</td>\n",
       "      <td>279.65</td>\n",
       "      <td>281.63</td>\n",
       "      <td>287.75</td>\n",
       "    </tr>\n",
       "    <tr>\n",
       "      <th>feels_like</th>\n",
       "      <td>3337.0</td>\n",
       "      <td>274.379068</td>\n",
       "      <td>3.107548</td>\n",
       "      <td>264.75</td>\n",
       "      <td>272.25</td>\n",
       "      <td>274.40</td>\n",
       "      <td>276.53</td>\n",
       "      <td>282.52</td>\n",
       "    </tr>\n",
       "    <tr>\n",
       "      <th>main_temp_min</th>\n",
       "      <td>3337.0</td>\n",
       "      <td>278.651885</td>\n",
       "      <td>3.359082</td>\n",
       "      <td>268.71</td>\n",
       "      <td>277.04</td>\n",
       "      <td>278.71</td>\n",
       "      <td>280.93</td>\n",
       "      <td>287.04</td>\n",
       "    </tr>\n",
       "    <tr>\n",
       "      <th>main_temp_max</th>\n",
       "      <td>3337.0</td>\n",
       "      <td>280.516889</td>\n",
       "      <td>2.960344</td>\n",
       "      <td>272.59</td>\n",
       "      <td>278.71</td>\n",
       "      <td>280.37</td>\n",
       "      <td>282.59</td>\n",
       "      <td>288.71</td>\n",
       "    </tr>\n",
       "    <tr>\n",
       "      <th>main_pressure</th>\n",
       "      <td>3337.0</td>\n",
       "      <td>1011.794126</td>\n",
       "      <td>11.625908</td>\n",
       "      <td>994.00</td>\n",
       "      <td>1001.00</td>\n",
       "      <td>1010.00</td>\n",
       "      <td>1023.00</td>\n",
       "      <td>1033.00</td>\n",
       "    </tr>\n",
       "    <tr>\n",
       "      <th>main_humidity</th>\n",
       "      <td>3337.0</td>\n",
       "      <td>78.876536</td>\n",
       "      <td>10.508349</td>\n",
       "      <td>52.00</td>\n",
       "      <td>70.00</td>\n",
       "      <td>80.00</td>\n",
       "      <td>87.00</td>\n",
       "      <td>100.00</td>\n",
       "    </tr>\n",
       "    <tr>\n",
       "      <th>main_visibility</th>\n",
       "      <td>3337.0</td>\n",
       "      <td>9814.174408</td>\n",
       "      <td>895.873760</td>\n",
       "      <td>800.00</td>\n",
       "      <td>10000.00</td>\n",
       "      <td>10000.00</td>\n",
       "      <td>10000.00</td>\n",
       "      <td>10000.00</td>\n",
       "    </tr>\n",
       "    <tr>\n",
       "      <th>wind_speed</th>\n",
       "      <td>3337.0</td>\n",
       "      <td>5.397980</td>\n",
       "      <td>2.386734</td>\n",
       "      <td>0.50</td>\n",
       "      <td>3.60</td>\n",
       "      <td>5.10</td>\n",
       "      <td>7.20</td>\n",
       "      <td>13.90</td>\n",
       "    </tr>\n",
       "    <tr>\n",
       "      <th>clouds_all</th>\n",
       "      <td>3337.0</td>\n",
       "      <td>61.754270</td>\n",
       "      <td>22.084483</td>\n",
       "      <td>0.00</td>\n",
       "      <td>40.00</td>\n",
       "      <td>75.00</td>\n",
       "      <td>75.00</td>\n",
       "      <td>100.00</td>\n",
       "    </tr>\n",
       "  </tbody>\n",
       "</table>\n",
       "</div>"
      ],
      "text/plain": [
       "                  count         mean         std     min       25%       50%  \\\n",
       "coord_lon        3337.0    -6.250000    0.000000   -6.25     -6.25     -6.25   \n",
       "coord_lat        3337.0    53.360000    0.000000   53.36     53.36     53.36   \n",
       "weather_id       3337.0   731.409050  138.887828  300.00    801.00    803.00   \n",
       "main_temp        3337.0   279.614330    3.104381  271.43    278.15    279.65   \n",
       "feels_like       3337.0   274.379068    3.107548  264.75    272.25    274.40   \n",
       "main_temp_min    3337.0   278.651885    3.359082  268.71    277.04    278.71   \n",
       "main_temp_max    3337.0   280.516889    2.960344  272.59    278.71    280.37   \n",
       "main_pressure    3337.0  1011.794126   11.625908  994.00   1001.00   1010.00   \n",
       "main_humidity    3337.0    78.876536   10.508349   52.00     70.00     80.00   \n",
       "main_visibility  3337.0  9814.174408  895.873760  800.00  10000.00  10000.00   \n",
       "wind_speed       3337.0     5.397980    2.386734    0.50      3.60      5.10   \n",
       "clouds_all       3337.0    61.754270   22.084483    0.00     40.00     75.00   \n",
       "\n",
       "                      75%       max  \n",
       "coord_lon           -6.25     -6.25  \n",
       "coord_lat           53.36     53.36  \n",
       "weather_id         803.00    804.00  \n",
       "main_temp          281.63    287.75  \n",
       "feels_like         276.53    282.52  \n",
       "main_temp_min      280.93    287.04  \n",
       "main_temp_max      282.59    288.71  \n",
       "main_pressure     1023.00   1033.00  \n",
       "main_humidity       87.00    100.00  \n",
       "main_visibility  10000.00  10000.00  \n",
       "wind_speed           7.20     13.90  \n",
       "clouds_all          75.00    100.00  "
      ]
     },
     "execution_count": 18,
     "metadata": {},
     "output_type": "execute_result"
    }
   ],
   "source": [
    "#Prepare a table with descriptive statistics for all the continuous features.\n",
    "data.describe().T"
   ]
  },
  {
   "cell_type": "code",
   "execution_count": 19,
   "metadata": {},
   "outputs": [
    {
     "name": "stderr",
     "output_type": "stream",
     "text": [
      "C:\\Users\\olawa\\Anaconda3\\envs\\comp47350py37\\lib\\site-packages\\pandas\\plotting\\_matplotlib\\tools.py:307: MatplotlibDeprecationWarning: \n",
      "The rowNum attribute was deprecated in Matplotlib 3.2 and will be removed two minor releases later. Use ax.get_subplotspec().rowspan.start instead.\n",
      "  layout[ax.rowNum, ax.colNum] = ax.get_visible()\n",
      "C:\\Users\\olawa\\Anaconda3\\envs\\comp47350py37\\lib\\site-packages\\pandas\\plotting\\_matplotlib\\tools.py:307: MatplotlibDeprecationWarning: \n",
      "The colNum attribute was deprecated in Matplotlib 3.2 and will be removed two minor releases later. Use ax.get_subplotspec().colspan.start instead.\n",
      "  layout[ax.rowNum, ax.colNum] = ax.get_visible()\n",
      "C:\\Users\\olawa\\Anaconda3\\envs\\comp47350py37\\lib\\site-packages\\pandas\\plotting\\_matplotlib\\tools.py:313: MatplotlibDeprecationWarning: \n",
      "The rowNum attribute was deprecated in Matplotlib 3.2 and will be removed two minor releases later. Use ax.get_subplotspec().rowspan.start instead.\n",
      "  if not layout[ax.rowNum + 1, ax.colNum]:\n",
      "C:\\Users\\olawa\\Anaconda3\\envs\\comp47350py37\\lib\\site-packages\\pandas\\plotting\\_matplotlib\\tools.py:313: MatplotlibDeprecationWarning: \n",
      "The colNum attribute was deprecated in Matplotlib 3.2 and will be removed two minor releases later. Use ax.get_subplotspec().colspan.start instead.\n",
      "  if not layout[ax.rowNum + 1, ax.colNum]:\n"
     ]
    },
    {
     "data": {
      "text/plain": [
       "array([[<matplotlib.axes._subplots.AxesSubplot object at 0x000001C04FFD6988>,\n",
       "        <matplotlib.axes._subplots.AxesSubplot object at 0x000001C05028BA88>,\n",
       "        <matplotlib.axes._subplots.AxesSubplot object at 0x000001C051A79C08>],\n",
       "       [<matplotlib.axes._subplots.AxesSubplot object at 0x000001C051CCE648>,\n",
       "        <matplotlib.axes._subplots.AxesSubplot object at 0x000001C04FD25AC8>,\n",
       "        <matplotlib.axes._subplots.AxesSubplot object at 0x000001C04FA70D48>],\n",
       "       [<matplotlib.axes._subplots.AxesSubplot object at 0x000001C050015948>,\n",
       "        <matplotlib.axes._subplots.AxesSubplot object at 0x000001C051D44448>,\n",
       "        <matplotlib.axes._subplots.AxesSubplot object at 0x000001C051D44608>],\n",
       "       [<matplotlib.axes._subplots.AxesSubplot object at 0x000001C050368608>,\n",
       "        <matplotlib.axes._subplots.AxesSubplot object at 0x000001C05052A708>,\n",
       "        <matplotlib.axes._subplots.AxesSubplot object at 0x000001C0505D9508>]],\n",
       "      dtype=object)"
      ]
     },
     "execution_count": 19,
     "metadata": {},
     "output_type": "execute_result"
    },
    {
     "data": {
      "text/plain": [
       "<Figure size 432x288 with 0 Axes>"
      ]
     },
     "metadata": {},
     "output_type": "display_data"
    },
    {
     "data": {
      "image/png": "[encoded data removed]",
      "text/plain": [
       "<Figure size 1440x2160 with 12 Axes>"
      ]
     },
     "metadata": {
      "needs_background": "light"
     },
     "output_type": "display_data"
    }
   ],
   "source": [
    "# Plot histograms for all the continuous features.\n",
    "#To list many plot together \n",
    "%matplotlib inline\n",
    "\n",
    "plt.figure()\n",
    "data.hist(figsize=(20, 30))"
   ]
  },
  {
   "cell_type": "code",
   "execution_count": 20,
   "metadata": {},
   "outputs": [
    {
     "name": "stderr",
     "output_type": "stream",
     "text": [
      "C:\\Users\\olawa\\Anaconda3\\envs\\comp47350py37\\lib\\site-packages\\pandas\\plotting\\_matplotlib\\tools.py:307: MatplotlibDeprecationWarning: \n",
      "The rowNum attribute was deprecated in Matplotlib 3.2 and will be removed two minor releases later. Use ax.get_subplotspec().rowspan.start instead.\n",
      "  layout[ax.rowNum, ax.colNum] = ax.get_visible()\n",
      "C:\\Users\\olawa\\Anaconda3\\envs\\comp47350py37\\lib\\site-packages\\pandas\\plotting\\_matplotlib\\tools.py:307: MatplotlibDeprecationWarning: \n",
      "The colNum attribute was deprecated in Matplotlib 3.2 and will be removed two minor releases later. Use ax.get_subplotspec().colspan.start instead.\n",
      "  layout[ax.rowNum, ax.colNum] = ax.get_visible()\n",
      "C:\\Users\\olawa\\Anaconda3\\envs\\comp47350py37\\lib\\site-packages\\pandas\\plotting\\_matplotlib\\tools.py:313: MatplotlibDeprecationWarning: \n",
      "The rowNum attribute was deprecated in Matplotlib 3.2 and will be removed two minor releases later. Use ax.get_subplotspec().rowspan.start instead.\n",
      "  if not layout[ax.rowNum + 1, ax.colNum]:\n",
      "C:\\Users\\olawa\\Anaconda3\\envs\\comp47350py37\\lib\\site-packages\\pandas\\plotting\\_matplotlib\\tools.py:313: MatplotlibDeprecationWarning: \n",
      "The colNum attribute was deprecated in Matplotlib 3.2 and will be removed two minor releases later. Use ax.get_subplotspec().colspan.start instead.\n",
      "  if not layout[ax.rowNum + 1, ax.colNum]:\n"
     ]
    },
    {
     "data": {
      "text/plain": [
       "weather_id            AxesSubplot(0.125,0.71587;0.168478x0.16413)\n",
       "main_pressure      AxesSubplot(0.327174,0.71587;0.168478x0.16413)\n",
       "main_humidity      AxesSubplot(0.529348,0.71587;0.168478x0.16413)\n",
       "main_visibility    AxesSubplot(0.731522,0.71587;0.168478x0.16413)\n",
       "clouds_all           AxesSubplot(0.125,0.518913;0.168478x0.16413)\n",
       "dtype: object"
      ]
     },
     "execution_count": 20,
     "metadata": {},
     "output_type": "execute_result"
    },
    {
     "data": {
      "image/png": "[encoded data removed]",
      "text/plain": [
       "<Figure size 2160x2160 with 16 Axes>"
      ]
     },
     "metadata": {
      "needs_background": "light"
     },
     "output_type": "display_data"
    }
   ],
   "source": [
    "data[int_columns].plot(kind='box', subplots=True, figsize=(30,30), layout=(4,4), sharex=False, sharey=False)"
   ]
  },
  {
   "cell_type": "code",
   "execution_count": 21,
   "metadata": {},
   "outputs": [
    {
     "name": "stderr",
     "output_type": "stream",
     "text": [
      "C:\\Users\\olawa\\Anaconda3\\envs\\comp47350py37\\lib\\site-packages\\pandas\\plotting\\_matplotlib\\tools.py:307: MatplotlibDeprecationWarning: \n",
      "The rowNum attribute was deprecated in Matplotlib 3.2 and will be removed two minor releases later. Use ax.get_subplotspec().rowspan.start instead.\n",
      "  layout[ax.rowNum, ax.colNum] = ax.get_visible()\n",
      "C:\\Users\\olawa\\Anaconda3\\envs\\comp47350py37\\lib\\site-packages\\pandas\\plotting\\_matplotlib\\tools.py:307: MatplotlibDeprecationWarning: \n",
      "The colNum attribute was deprecated in Matplotlib 3.2 and will be removed two minor releases later. Use ax.get_subplotspec().colspan.start instead.\n",
      "  layout[ax.rowNum, ax.colNum] = ax.get_visible()\n",
      "C:\\Users\\olawa\\Anaconda3\\envs\\comp47350py37\\lib\\site-packages\\pandas\\plotting\\_matplotlib\\tools.py:313: MatplotlibDeprecationWarning: \n",
      "The rowNum attribute was deprecated in Matplotlib 3.2 and will be removed two minor releases later. Use ax.get_subplotspec().rowspan.start instead.\n",
      "  if not layout[ax.rowNum + 1, ax.colNum]:\n",
      "C:\\Users\\olawa\\Anaconda3\\envs\\comp47350py37\\lib\\site-packages\\pandas\\plotting\\_matplotlib\\tools.py:313: MatplotlibDeprecationWarning: \n",
      "The colNum attribute was deprecated in Matplotlib 3.2 and will be removed two minor releases later. Use ax.get_subplotspec().colspan.start instead.\n",
      "  if not layout[ax.rowNum + 1, ax.colNum]:\n"
     ]
    },
    {
     "data": {
      "text/plain": [
       "coord_lon            AxesSubplot(0.125,0.71587;0.168478x0.16413)\n",
       "coord_lat         AxesSubplot(0.327174,0.71587;0.168478x0.16413)\n",
       "main_temp         AxesSubplot(0.529348,0.71587;0.168478x0.16413)\n",
       "feels_like        AxesSubplot(0.731522,0.71587;0.168478x0.16413)\n",
       "main_temp_min       AxesSubplot(0.125,0.518913;0.168478x0.16413)\n",
       "wind_speed       AxesSubplot(0.327174,0.518913;0.168478x0.16413)\n",
       "main_temp_max    AxesSubplot(0.529348,0.518913;0.168478x0.16413)\n",
       "dtype: object"
      ]
     },
     "execution_count": 21,
     "metadata": {},
     "output_type": "execute_result"
    },
    {
     "data": {
      "image/png": "[encoded data removed]",
      "text/plain": [
       "<Figure size 2160x2160 with 16 Axes>"
      ]
     },
     "metadata": {
      "needs_background": "light"
     },
     "output_type": "display_data"
    }
   ],
   "source": [
    "data[float_columns].plot(kind='box', subplots=True, figsize=(30,30), layout=(4,4), sharex=False, sharey=False)"
   ]
  },
  {
   "cell_type": "code",
   "execution_count": 22,
   "metadata": {},
   "outputs": [
    {
     "data": {
      "image/png": "[encoded data removed]",
      "text/plain": [
       "<Figure size 576x360 with 1 Axes>"
      ]
     },
     "metadata": {
      "needs_background": "light"
     },
     "output_type": "display_data"
    },
    {
     "data": {
      "image/png": "[encoded data removed]",
      "text/plain": [
       "<Figure size 576x360 with 1 Axes>"
      ]
     },
     "metadata": {
      "needs_background": "light"
     },
     "output_type": "display_data"
    },
    {
     "data": {
      "image/png": "[encoded data removed]",
      "text/plain": [
       "<Figure size 576x360 with 1 Axes>"
      ]
     },
     "metadata": {
      "needs_background": "light"
     },
     "output_type": "display_data"
    },
    {
     "data": {
      "image/png": "[encoded data removed]",
      "text/plain": [
       "<Figure size 576x360 with 1 Axes>"
      ]
     },
     "metadata": {
      "needs_background": "light"
     },
     "output_type": "display_data"
    }
   ],
   "source": [
    "for column in categorical_columns:\n",
    "    f = data[column].value_counts(dropna=False).plot(kind='bar', title=column, figsize=(8,5))\n",
    "    plt.show()"
   ]
  },
  {
   "cell_type": "code",
   "execution_count": null,
   "metadata": {},
   "outputs": [],
   "source": []
  },
  {
   "cell_type": "code",
   "execution_count": 23,
   "metadata": {},
   "outputs": [],
   "source": [
    "#Save df to new csv file\n",
    "data.to_csv('updated_weatherdata.csv')"
   ]
  }
 ],
 "metadata": {
  "kernelspec": {
   "display_name": "Python 3",
   "language": "python",
   "name": "python3"
  },
  "language_info": {
   "codemirror_mode": {
    "name": "ipython",
    "version": 3
   },
   "file_extension": ".py",
   "mimetype": "text/x-python",
   "name": "python",
   "nbconvert_exporter": "python",
   "pygments_lexer": "ipython3",
   "version": "3.7.6"
  }
 },
 "nbformat": 4,
 "nbformat_minor": 2
}
